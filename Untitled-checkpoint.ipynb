{
 "cells": [
  {
   "cell_type": "code",
   "execution_count": 4,
   "id": "2b38122a",
   "metadata": {},
   "outputs": [
    {
     "name": "stdout",
     "output_type": "stream",
     "text": [
      "Welcome to BMI calculator\n",
      "Enter the height in m1.75\n",
      "Enter the weight in kg60\n",
      "Your BMI is 19.591836734693878 and you are Normalweight\n"
     ]
    }
   ],
   "source": [
    "print(\"Welcome to BMI calculator\")\n",
    "hei=float(input(\"Enter the height in m\"))\n",
    "wei=float(input(\"Enter the weight in kg\"))\n",
    "b=wei/(hei**2)\n",
    "if b<18.5:\n",
    "    print(f\"Your BMI is {b} and you are Underweight\")\n",
    "elif b>18.5 and b<25:\n",
    "   print(f\"Your BMI is {b} and you are Normalweight\")\n",
    "elif b>25 and b<30:\n",
    "    print(f\"Your BMI is {b} and you are Overweight\")\n",
    "elif b>30 and b<35:\n",
    "    print(f\"Your BMI is {b} and you are Obese\")\n",
    "else:\n",
    "    print(f\"Your BMI is {b} and you are Clinically_Obese\")\n"
   ]
  },
  {
   "cell_type": "code",
   "execution_count": null,
   "id": "dc1d7918",
   "metadata": {},
   "outputs": [],
   "source": []
  }
 ],
 "metadata": {
  "kernelspec": {
   "display_name": "Python 3 (ipykernel)",
   "language": "python",
   "name": "python3"
  },
  "language_info": {
   "codemirror_mode": {
    "name": "ipython",
    "version": 3
   },
   "file_extension": ".py",
   "mimetype": "text/x-python",
   "name": "python",
   "nbconvert_exporter": "python",
   "pygments_lexer": "ipython3",
   "version": "3.9.12"
  }
 },
 "nbformat": 4,
 "nbformat_minor": 5
}
