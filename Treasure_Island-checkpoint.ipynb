{
 "cells": [
  {
   "cell_type": "code",
   "execution_count": null,
   "id": "a9ff7628",
   "metadata": {},
   "outputs": [],
   "source": [
    "print(\"Welcome to Treasure Island.Your mission is to find the treasure\")\n",
    "p1=input(\"You are at cross road.You want to go left of right\")\n",
    "if p1==\"left\":\n",
    "    p2=input(\"You come to lake.There is an island in the middle of the lake.Typewait to wait for boat.Type swim to swim across\")\n",
    "    if p2==\"wait\":\n",
    "        p3=input(\"You arrive at the island unharmed.There is a house with 3 doors.One red,One yellow and One blue.Which colour do you choose\")\n",
    "        if p3==\"yellow\":\n",
    "           print(\"You win\")\n",
    "        else:\n",
    "            print(\"You Entered the Room of Beasts you lose\")\n",
    "    else:\n",
    "        print(\"You Lose\")\n",
    "else:\n",
    "    print(\"You Lose\")"
   ]
  },
  {
   "cell_type": "code",
   "execution_count": null,
   "id": "c0cb75f8",
   "metadata": {},
   "outputs": [],
   "source": []
  }
 ],
 "metadata": {
  "kernelspec": {
   "display_name": "Python 3 (ipykernel)",
   "language": "python",
   "name": "python3"
  },
  "language_info": {
   "codemirror_mode": {
    "name": "ipython",
    "version": 3
   },
   "file_extension": ".py",
   "mimetype": "text/x-python",
   "name": "python",
   "nbconvert_exporter": "python",
   "pygments_lexer": "ipython3",
   "version": "3.9.12"
  }
 },
 "nbformat": 4,
 "nbformat_minor": 5
}
