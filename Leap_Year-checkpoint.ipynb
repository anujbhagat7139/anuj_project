{
 "cells": [
  {
   "cell_type": "code",
   "execution_count": 4,
   "id": "5a8a8852",
   "metadata": {},
   "outputs": [
    {
     "name": "stdout",
     "output_type": "stream",
     "text": [
      "Welcome to the Leap Year Calculator=\n",
      "Enter the year2100\n",
      "2100 is not a Leap Year.\n"
     ]
    }
   ],
   "source": [
    "print(\"Welcome to the Leap Year Calculator=\")\n",
    "year=int(input(\"Enter the year\"))\n",
    "if year%4==0:\n",
    "    if year%100==0:\n",
    "       if year%400==0:\n",
    "          print(f\"{year} is a Leap Year.\")\n",
    "       else:\n",
    "          print(f\"{year} is not a Leap Year.\")   \n",
    "    else:\n",
    "        print(f\"{year} is a Leap Year.\")\n",
    "else:\n",
    "    print(f\"{year} is not a Leap Year.\")"
   ]
  },
  {
   "cell_type": "code",
   "execution_count": null,
   "id": "b229f1b0",
   "metadata": {},
   "outputs": [],
   "source": []
  }
 ],
 "metadata": {
  "kernelspec": {
   "display_name": "Python 3 (ipykernel)",
   "language": "python",
   "name": "python3"
  },
  "language_info": {
   "codemirror_mode": {
    "name": "ipython",
    "version": 3
   },
   "file_extension": ".py",
   "mimetype": "text/x-python",
   "name": "python",
   "nbconvert_exporter": "python",
   "pygments_lexer": "ipython3",
   "version": "3.9.12"
  }
 },
 "nbformat": 4,
 "nbformat_minor": 5
}
