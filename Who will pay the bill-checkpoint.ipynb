{
 "cells": [
  {
   "cell_type": "code",
   "execution_count": 6,
   "id": "a5bf4c19",
   "metadata": {},
   "outputs": [
    {
     "name": "stdout",
     "output_type": "stream",
     "text": [
      "Who will pay the bill\n",
      "Enter the name seperated by commaanuj,yash,risabh,manish,bhagchand,saurabh,\n",
      "['anuj', 'yash', 'risabh', 'manish', 'bhagchand', 'saurabh', '']\n",
      "saurabh will pay the bill.\n"
     ]
    }
   ],
   "source": [
    "import random\n",
    "print(\"Who will pay the bill\")\n",
    "names=input(\"Enter the name seperated by comma\").split(\",\")\n",
    "print(names)\n",
    "print(f\"{random.choice(names)} will pay the bill.\")"
   ]
  },
  {
   "cell_type": "code",
   "execution_count": null,
   "id": "ba8da3ac",
   "metadata": {},
   "outputs": [],
   "source": []
  },
  {
   "cell_type": "code",
   "execution_count": null,
   "id": "b19f1084",
   "metadata": {},
   "outputs": [],
   "source": []
  }
 ],
 "metadata": {
  "kernelspec": {
   "display_name": "Python 3 (ipykernel)",
   "language": "python",
   "name": "python3"
  },
  "language_info": {
   "codemirror_mode": {
    "name": "ipython",
    "version": 3
   },
   "file_extension": ".py",
   "mimetype": "text/x-python",
   "name": "python",
   "nbconvert_exporter": "python",
   "pygments_lexer": "ipython3",
   "version": "3.9.12"
  }
 },
 "nbformat": 4,
 "nbformat_minor": 5
}
